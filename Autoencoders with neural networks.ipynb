{
 "cells": [
  {
   "cell_type": "markdown",
   "id": "52a2567d",
   "metadata": {},
   "source": [
    "## CLASSICAL AUTOENCODERS"
   ]
  },
  {
   "cell_type": "code",
   "execution_count": 1,
   "id": "d2a81e45",
   "metadata": {},
   "outputs": [],
   "source": [
    "from keras.layers import Input, Dense\n",
    "from keras.models import Model\n",
    "\n",
    "input_img = Input(shape=(784,))\n",
    "encoded = Dense(32, activation='relu')(input_img)  \n",
    "decoded = Dense(784, activation='sigmoid')(encoded)\n",
    "\n",
    "# this model maps an input to its reconstruction\n",
    "autoencoder = Model(input_img, decoded)\n",
    "\n",
    "# get the encoder and decoder as seperate models\n",
    "# encoder\n",
    "encoder = Model(input_img, encoded)\n",
    "\n",
    "# decoder\n",
    "encoded_input = Input(shape=(32,))  # encoding_dim = 32\n",
    "decoder_layer = autoencoder.layers[-1]\n",
    "decoder = Model(encoded_input, decoder_layer(encoded_input))\n",
    "\n",
    "autoencoder.compile(optimizer='adadelta', loss='binary_crossentropy')"
   ]
  },
  {
   "cell_type": "code",
   "execution_count": 7,
   "id": "adaf88ac",
   "metadata": {},
   "outputs": [],
   "source": [
    "from keras.datasets import mnist\n",
    "import numpy as np\n",
    "(x_train, y_train), (x_test, y_test) = mnist.load_data()\n",
    "x_train = x_train.astype('float32') / 255.\n",
    "x_test = x_test.astype('float32') / 255.\n",
    "x_train = x_train.reshape((len(x_train), np.prod(x_train.shape[1:])))\n",
    "x_test = x_test.reshape((len(x_test), np.prod(x_test.shape[1:])))"
   ]
  },
  {
   "cell_type": "code",
   "execution_count": 8,
   "id": "5ff3c93a",
   "metadata": {},
   "outputs": [
    {
     "name": "stdout",
     "output_type": "stream",
     "text": [
      "Epoch 1/50\n",
      "235/235 [==============================] - 1s 4ms/step - loss: 0.6836 - val_loss: 0.6833\n",
      "Epoch 2/50\n",
      "235/235 [==============================] - 1s 4ms/step - loss: 0.6833 - val_loss: 0.6830\n",
      "Epoch 3/50\n",
      "235/235 [==============================] - 1s 5ms/step - loss: 0.6830 - val_loss: 0.6827\n",
      "Epoch 4/50\n",
      "235/235 [==============================] - 1s 4ms/step - loss: 0.6827 - val_loss: 0.6824\n",
      "Epoch 5/50\n",
      "235/235 [==============================] - 1s 4ms/step - loss: 0.6824 - val_loss: 0.6820\n",
      "Epoch 6/50\n",
      "235/235 [==============================] - 1s 5ms/step - loss: 0.6820 - val_loss: 0.6817\n",
      "Epoch 7/50\n",
      "235/235 [==============================] - 1s 4ms/step - loss: 0.6817 - val_loss: 0.6813\n",
      "Epoch 8/50\n",
      "235/235 [==============================] - 1s 5ms/step - loss: 0.6813 - val_loss: 0.6809\n",
      "Epoch 9/50\n",
      "235/235 [==============================] - 2s 7ms/step - loss: 0.6810 - val_loss: 0.6805\n",
      "Epoch 10/50\n",
      "235/235 [==============================] - 2s 7ms/step - loss: 0.6806 - val_loss: 0.6802\n",
      "Epoch 11/50\n",
      "235/235 [==============================] - 1s 6ms/step - loss: 0.6802 - val_loss: 0.6798\n",
      "Epoch 12/50\n",
      "235/235 [==============================] - 1s 6ms/step - loss: 0.6798 - val_loss: 0.6793\n",
      "Epoch 13/50\n",
      "235/235 [==============================] - 2s 6ms/step - loss: 0.6794 - val_loss: 0.6789\n",
      "Epoch 14/50\n",
      "235/235 [==============================] - 1s 6ms/step - loss: 0.6790 - val_loss: 0.6785\n",
      "Epoch 15/50\n",
      "235/235 [==============================] - 1s 6ms/step - loss: 0.6785 - val_loss: 0.6780\n",
      "Epoch 16/50\n",
      "235/235 [==============================] - 1s 6ms/step - loss: 0.6781 - val_loss: 0.6776\n",
      "Epoch 17/50\n",
      "235/235 [==============================] - 2s 7ms/step - loss: 0.6776 - val_loss: 0.6771\n",
      "Epoch 18/50\n",
      "235/235 [==============================] - 1s 6ms/step - loss: 0.6771 - val_loss: 0.6766\n",
      "Epoch 19/50\n",
      "235/235 [==============================] - 1s 6ms/step - loss: 0.6766 - val_loss: 0.6761\n",
      "Epoch 20/50\n",
      "235/235 [==============================] - 1s 6ms/step - loss: 0.6761 - val_loss: 0.6756\n",
      "Epoch 21/50\n",
      "235/235 [==============================] - 1s 6ms/step - loss: 0.6756 - val_loss: 0.6751\n",
      "Epoch 22/50\n",
      "235/235 [==============================] - 2s 6ms/step - loss: 0.6751 - val_loss: 0.6745\n",
      "Epoch 23/50\n",
      "235/235 [==============================] - 1s 6ms/step - loss: 0.6746 - val_loss: 0.6740\n",
      "Epoch 24/50\n",
      "235/235 [==============================] - 1s 6ms/step - loss: 0.6740 - val_loss: 0.6734\n",
      "Epoch 25/50\n",
      "235/235 [==============================] - 2s 7ms/step - loss: 0.6734 - val_loss: 0.6728\n",
      "Epoch 26/50\n",
      "235/235 [==============================] - 1s 6ms/step - loss: 0.6728 - val_loss: 0.6722\n",
      "Epoch 27/50\n",
      "235/235 [==============================] - 1s 6ms/step - loss: 0.6722 - val_loss: 0.6715\n",
      "Epoch 28/50\n",
      "235/235 [==============================] - 1s 6ms/step - loss: 0.6716 - val_loss: 0.6709\n",
      "Epoch 29/50\n",
      "235/235 [==============================] - 1s 6ms/step - loss: 0.6709 - val_loss: 0.6702\n",
      "Epoch 30/50\n",
      "235/235 [==============================] - 1s 6ms/step - loss: 0.6703 - val_loss: 0.6695\n",
      "Epoch 31/50\n",
      "235/235 [==============================] - 1s 6ms/step - loss: 0.6696 - val_loss: 0.6688\n",
      "Epoch 32/50\n",
      "235/235 [==============================] - 1s 6ms/step - loss: 0.6689 - val_loss: 0.6681\n",
      "Epoch 33/50\n",
      "235/235 [==============================] - 2s 6ms/step - loss: 0.6681 - val_loss: 0.6673\n",
      "Epoch 34/50\n",
      "235/235 [==============================] - 1s 6ms/step - loss: 0.6674 - val_loss: 0.6666\n",
      "Epoch 35/50\n",
      "235/235 [==============================] - 1s 6ms/step - loss: 0.6666 - val_loss: 0.6658\n",
      "Epoch 36/50\n",
      "235/235 [==============================] - 2s 6ms/step - loss: 0.6658 - val_loss: 0.6650\n",
      "Epoch 37/50\n",
      "235/235 [==============================] - 1s 6ms/step - loss: 0.6650 - val_loss: 0.6641\n",
      "Epoch 38/50\n",
      "235/235 [==============================] - 1s 6ms/step - loss: 0.6642 - val_loss: 0.6633\n",
      "Epoch 39/50\n",
      "235/235 [==============================] - 1s 6ms/step - loss: 0.6633 - val_loss: 0.6624\n",
      "Epoch 40/50\n",
      "235/235 [==============================] - 2s 6ms/step - loss: 0.6624 - val_loss: 0.6615\n",
      "Epoch 41/50\n",
      "235/235 [==============================] - 1s 6ms/step - loss: 0.6615 - val_loss: 0.6605\n",
      "Epoch 42/50\n",
      "235/235 [==============================] - 1s 6ms/step - loss: 0.6606 - val_loss: 0.6596\n",
      "Epoch 43/50\n",
      "235/235 [==============================] - 2s 6ms/step - loss: 0.6596 - val_loss: 0.6586\n",
      "Epoch 44/50\n",
      "235/235 [==============================] - 1s 6ms/step - loss: 0.6586 - val_loss: 0.6575\n",
      "Epoch 45/50\n",
      "235/235 [==============================] - 1s 6ms/step - loss: 0.6576 - val_loss: 0.6565\n",
      "Epoch 46/50\n",
      "235/235 [==============================] - 1s 6ms/step - loss: 0.6566 - val_loss: 0.6554\n",
      "Epoch 47/50\n",
      "235/235 [==============================] - 1s 6ms/step - loss: 0.6555 - val_loss: 0.6543\n",
      "Epoch 48/50\n",
      "235/235 [==============================] - 1s 6ms/step - loss: 0.6544 - val_loss: 0.6532\n",
      "Epoch 49/50\n",
      "235/235 [==============================] - 1s 6ms/step - loss: 0.6533 - val_loss: 0.6520\n",
      "Epoch 50/50\n",
      "235/235 [==============================] - 2s 6ms/step - loss: 0.6521 - val_loss: 0.6508\n"
     ]
    },
    {
     "data": {
      "text/plain": [
       "<keras.callbacks.History at 0x18d52e61e80>"
      ]
     },
     "execution_count": 8,
     "metadata": {},
     "output_type": "execute_result"
    }
   ],
   "source": [
    "autoencoder.fit(x_train, x_train,\n",
    "                epochs=50,\n",
    "                batch_size=256,\n",
    "                validation_data=(x_test, x_test),\n",
    "                verbose=1)"
   ]
  },
  {
   "cell_type": "code",
   "execution_count": 9,
   "id": "d09289d2",
   "metadata": {},
   "outputs": [
    {
     "name": "stdout",
     "output_type": "stream",
     "text": [
      "313/313 [==============================] - 1s 2ms/step\n",
      "313/313 [==============================] - 0s 964us/step\n"
     ]
    }
   ],
   "source": [
    "encoded_imgs = encoder.predict(x_test)\n",
    "decoded_imgs = decoder.predict(encoded_imgs)"
   ]
  },
  {
   "cell_type": "markdown",
   "id": "3e892d42",
   "metadata": {},
   "source": [
    "## AUTOENCODERS CUM NEURAL NETWORKS (AUTOENCODERS ARE USED AS PREPROCESSORS)"
   ]
  },
  {
   "cell_type": "code",
   "execution_count": 17,
   "id": "9bc71e9f",
   "metadata": {},
   "outputs": [],
   "source": [
    "from tensorflow.keras.utils import to_categorical\n",
    "\n",
    "num_classes = 10  # The number of classes in the MNIST dataset\n",
    "\n",
    "y_train = to_categorical(y_train, num_classes)\n",
    "y_test = to_categorical(y_test, num_classes)\n"
   ]
  },
  {
   "cell_type": "code",
   "execution_count": 20,
   "id": "3f45d686",
   "metadata": {},
   "outputs": [
    {
     "name": "stdout",
     "output_type": "stream",
     "text": [
      "Epoch 1/15\n",
      "235/235 [==============================] - 2s 5ms/step - loss: 0.0713 - val_loss: 0.0418\n",
      "Epoch 2/15\n",
      "235/235 [==============================] - 1s 4ms/step - loss: 0.0355 - val_loss: 0.0294\n",
      "Epoch 3/15\n",
      "235/235 [==============================] - 1s 5ms/step - loss: 0.0259 - val_loss: 0.0224\n",
      "Epoch 4/15\n",
      "235/235 [==============================] - 1s 5ms/step - loss: 0.0209 - val_loss: 0.0187\n",
      "Epoch 5/15\n",
      "235/235 [==============================] - 1s 5ms/step - loss: 0.0178 - val_loss: 0.0162\n",
      "Epoch 6/15\n",
      "235/235 [==============================] - 1s 5ms/step - loss: 0.0156 - val_loss: 0.0143\n",
      "Epoch 7/15\n",
      "235/235 [==============================] - 1s 5ms/step - loss: 0.0140 - val_loss: 0.0130\n",
      "Epoch 8/15\n",
      "235/235 [==============================] - 1s 5ms/step - loss: 0.0128 - val_loss: 0.0120\n",
      "Epoch 9/15\n",
      "235/235 [==============================] - 1s 5ms/step - loss: 0.0120 - val_loss: 0.0114\n",
      "Epoch 10/15\n",
      "235/235 [==============================] - 1s 5ms/step - loss: 0.0115 - val_loss: 0.0110\n",
      "Epoch 11/15\n",
      "235/235 [==============================] - 1s 5ms/step - loss: 0.0111 - val_loss: 0.0106\n",
      "Epoch 12/15\n",
      "235/235 [==============================] - 1s 5ms/step - loss: 0.0109 - val_loss: 0.0105\n",
      "Epoch 13/15\n",
      "235/235 [==============================] - 1s 5ms/step - loss: 0.0107 - val_loss: 0.0103\n",
      "Epoch 14/15\n",
      "235/235 [==============================] - 1s 5ms/step - loss: 0.0106 - val_loss: 0.0102\n",
      "Epoch 15/15\n",
      "235/235 [==============================] - 1s 5ms/step - loss: 0.0105 - val_loss: 0.0102\n",
      "1875/1875 [==============================] - 2s 1ms/step\n",
      "313/313 [==============================] - 1s 1ms/step\n",
      "Epoch 1/10\n",
      "469/469 [==============================] - 2s 2ms/step - loss: 1.6667 - accuracy: 0.8744 - val_loss: 0.0044 - val_accuracy: 0.9989\n",
      "Epoch 2/10\n",
      "469/469 [==============================] - 1s 2ms/step - loss: 0.0025 - accuracy: 0.9996 - val_loss: 0.0014 - val_accuracy: 0.9999\n",
      "Epoch 3/10\n",
      "469/469 [==============================] - 1s 2ms/step - loss: 9.8849e-04 - accuracy: 0.9999 - val_loss: 6.9070e-04 - val_accuracy: 0.9999\n",
      "Epoch 4/10\n",
      "469/469 [==============================] - 1s 2ms/step - loss: 5.4495e-04 - accuracy: 1.0000 - val_loss: 4.2333e-04 - val_accuracy: 0.9999\n",
      "Epoch 5/10\n",
      "469/469 [==============================] - 1s 2ms/step - loss: 3.4814e-04 - accuracy: 1.0000 - val_loss: 2.8227e-04 - val_accuracy: 1.0000\n",
      "Epoch 6/10\n",
      "469/469 [==============================] - 1s 2ms/step - loss: 2.3934e-04 - accuracy: 1.0000 - val_loss: 1.9855e-04 - val_accuracy: 1.0000\n",
      "Epoch 7/10\n",
      "469/469 [==============================] - 1s 2ms/step - loss: 1.7222e-04 - accuracy: 1.0000 - val_loss: 1.4314e-04 - val_accuracy: 1.0000\n",
      "Epoch 8/10\n",
      "469/469 [==============================] - 1s 2ms/step - loss: 1.2698e-04 - accuracy: 1.0000 - val_loss: 1.0529e-04 - val_accuracy: 1.0000\n",
      "Epoch 9/10\n",
      "469/469 [==============================] - 1s 2ms/step - loss: 9.5333e-05 - accuracy: 1.0000 - val_loss: 7.8847e-05 - val_accuracy: 1.0000\n",
      "Epoch 10/10\n",
      "469/469 [==============================] - 1s 2ms/step - loss: 7.2727e-05 - accuracy: 1.0000 - val_loss: 5.9749e-05 - val_accuracy: 1.0000\n"
     ]
    },
    {
     "data": {
      "text/plain": [
       "<keras.callbacks.History at 0x18d5bc9cac0>"
      ]
     },
     "execution_count": 20,
     "metadata": {},
     "output_type": "execute_result"
    }
   ],
   "source": [
    "import numpy as np\n",
    "from tensorflow.keras.datasets import mnist\n",
    "from tensorflow.keras.models import Sequential, Model\n",
    "from tensorflow.keras.layers import Input, Dense\n",
    "from tensorflow.keras.optimizers import Adam\n",
    "\n",
    "# Load the MNIST dataset\n",
    "(x_train, _), (x_test, _) = mnist.load_data()\n",
    "\n",
    "# Normalize pixel values to between 0 and 1\n",
    "x_train = x_train.astype('float32') / 255.\n",
    "x_test = x_test.astype('float32') / 255.\n",
    "\n",
    "# Flatten the images\n",
    "x_train = x_train.reshape((len(x_train), np.prod(x_train.shape[1:])))\n",
    "x_test = x_test.reshape((len(x_test), np.prod(x_test.shape[1:])))\n",
    "\n",
    "# Define the dimensions for the encoding and hidden layers of the autoencoder\n",
    "encoding_dim = 32  \n",
    "\n",
    "# Create an autoencoder model\n",
    "input_img = Input(shape=(784,))\n",
    "encoded = Dense(encoding_dim, activation='relu')(input_img)\n",
    "decoded = Dense(784, activation='sigmoid')(encoded)\n",
    "\n",
    "autoencoder = Model(input_img, decoded)\n",
    "\n",
    "# Create a separate model for encoding\n",
    "encoder = Model(input_img, encoded)\n",
    "\n",
    "# Compile the autoencoder\n",
    "autoencoder.compile(optimizer='adam', loss='mean_squared_error')\n",
    "\n",
    "# Train the autoencoder\n",
    "###autoencoder.fit(x_train, x_train, epochs=50, batch_size=256, shuffle=True, validation_data=(x_test, x_test))\n",
    "autoencoder.fit(x_train, x_train, epochs=15, batch_size=256, shuffle=True, validation_data=(x_test, x_test))\n",
    "\n",
    "# Use the encoder to transform the data\n",
    "encoded_x_train = encoder.predict(x_train)\n",
    "encoded_x_test = encoder.predict(x_test)\n",
    "\n",
    "# Define a neural network for classification\n",
    "model = Sequential()\n",
    "#model.add(Dense(64, activation='relu', input_dim=encoding_dim))\n",
    "model.add(Dense(10, activation='softmax'))\n",
    "\n",
    "# Compile the model\n",
    "model.compile(loss='categorical_crossentropy', optimizer=Adam(), metrics=['accuracy'])\n",
    "\n",
    "# Train the neural network on the encoded data\n",
    "model.fit(encoded_x_train, y_train, epochs=10, batch_size=128, validation_data=(encoded_x_test, y_test))\n"
   ]
  },
  {
   "cell_type": "code",
   "execution_count": null,
   "id": "4b317df0",
   "metadata": {},
   "outputs": [],
   "source": []
  }
 ],
 "metadata": {
  "kernelspec": {
   "display_name": "Python 3 (ipykernel)",
   "language": "python",
   "name": "python3"
  },
  "language_info": {
   "codemirror_mode": {
    "name": "ipython",
    "version": 3
   },
   "file_extension": ".py",
   "mimetype": "text/x-python",
   "name": "python",
   "nbconvert_exporter": "python",
   "pygments_lexer": "ipython3",
   "version": "3.9.7"
  }
 },
 "nbformat": 4,
 "nbformat_minor": 5
}
